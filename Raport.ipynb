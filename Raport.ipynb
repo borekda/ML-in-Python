{
  "nbformat": 4,
  "nbformat_minor": 0,
  "metadata": {
    "colab": {
      "name": "Raport.ipynb",
      "provenance": [],
      "collapsed_sections": [],
      "toc_visible": true,
      "authorship_tag": "ABX9TyPjOnl2O43y/iC/JX+yKPqw",
      "include_colab_link": true
    },
    "kernelspec": {
      "name": "python3",
      "display_name": "Python 3"
    },
    "language_info": {
      "name": "python"
    }
  },
  "cells": [
    {
      "cell_type": "markdown",
      "metadata": {
        "id": "view-in-github",
        "colab_type": "text"
      },
      "source": [
        "<a href=\"https://colab.research.google.com/github/danieltomasz/ML-in-Python/blob/main/Raport.ipynb\" target=\"_parent\"><img src=\"https://colab.research.google.com/assets/colab-badge.svg\" alt=\"Open In Colab\"/></a>"
      ]
    },
    {
      "cell_type": "markdown",
      "metadata": {
        "id": "KWNzRw7Q51-l"
      },
      "source": [
        ""
      ]
    },
    {
      "cell_type": "markdown",
      "metadata": {
        "id": "wEaOJY5040UV"
      },
      "source": [
        "\n",
        "# Technical report \n",
        "\n",
        "## Introduction \n",
        "\n",
        "This  project corresponds to the final task of the course Machine Learning with Python offered by the Institute for Continuing Education in Science. The team will take the role of data scientists for an exclusive Hotel in the Bahamas. The goal is to screen applying Russian clients. The reason is that Russian clients represent a contrasting customer segment. On one hand, they spend a high quantity of money during their stay in the hotel. On the other hand, they also cause a high cost on damages that is not recoverable for the Hotel. \n",
        "\n",
        "The work was divided in five points, following the recommendation of the professor. The different parts included: prepare the data set, predict the projected revenue per clients, predict which clients will cause damage, predict the damage that those clients would cause, and to create a measure of the expected value for each potential customer so that client list can be selected. \n",
        "\n"
      ]
    },
    {
      "cell_type": "markdown",
      "metadata": {
        "id": "okFA5KJc7jI_"
      },
      "source": [
        ""
      ]
    },
    {
      "cell_type": "markdown",
      "metadata": {
        "id": "6QlSdkYL5Dd-"
      },
      "source": [
        "\n",
        "### Problem definition \n",
        "\n",
        "For this work the objective is to select a client list of 200 persons, based on a data set of 500 potential customers. The client list should represent a balance between damage and profit.  \n",
        "\n",
        "To be able to achieve this, different algorithms were used. To train them, a second data set was utilized that contained information over former guests. This data set included variables such as profit, damage (from visits that excluded the last one), age , gender, among others. In the next sections more details will be discussed over the different parts of the work. "
      ]
    },
    {
      "cell_type": "markdown",
      "metadata": {
        "id": "3NAJVJB56OD8"
      },
      "source": [
        "## Preprocessing \n",
        "\n",
        "For the preprocessing, the first step was visualizing the data_____________________________________________________________________________________________________________________________________________________________________________________________________________________________________ \n",
        "\n",
        " After the visualization, the missing values were handled. To accomplish this, the data set for the scores of the potential clients and the training data set of former clients were fused. This was done so that the changes made on the training data set would be the same as in the other data set. Also, the outcomes were dropped as these should not be changed or touched before the fitting of the model. \n",
        "\n",
        "After this, the categorical variables were chosen. These were client_segment, sect_empl, gender, retired, gold_status, prev_stay, divorce, married_cd. \n",
        "\n",
        "After selecting the categorical variables, a mode imputation was carried out to replace the missing values. The categorical variables that had values other than 0and 1, were dummified. \n"
      ]
    },
    {
      "cell_type": "markdown",
      "metadata": {
        "id": "JElK0s_P76dl"
      },
      "source": [
        "The next step was to drop the original features and one dummy category for the categorical variables. In this point the feature “profit per night” (the result of the division of the profit amount and the nights booked) was created. \n",
        "\n",
        "Then the features that had more than 25% of missing values were found. In here, there was a choice: they could be dropped or another way to handle them could be selected. As they represented the scores of the clients, it was decided that instead dropping them, a mean imputation (as they were quantitative data), was chosen. Mean imputations were also chosen for the rest of th missing data. "
      ]
    },
    {
      "cell_type": "markdown",
      "metadata": {
        "id": "jXN64NDH77yo"
      },
      "source": [
        "As the last steps of the preprocessing, the data was rescaled and the score and data_train sets were again separated. "
      ]
    },
    {
      "cell_type": "markdown",
      "metadata": {
        "id": "0bUDpgVy849V"
      },
      "source": [
        "## Modeling part\n",
        "###  Profit Model \n",
        "\n",
        "###  Prediction of Damage (binary) \n",
        "###  Prediction of Damage  "
      ]
    },
    {
      "cell_type": "markdown",
      "metadata": {
        "id": "qZxXSN4q7mxL"
      },
      "source": [
        "\n",
        "\n",
        "## Results  \n",
        "\n",
        " \n",
        "\n",
        "Speak over the customer list, and over how it was selected. \n",
        "\n",
        "### Improvements/modifications \n",
        " \n",
        "\n",
        "### Concluding remarks "
      ]
    },
    {
      "cell_type": "markdown",
      "metadata": {
        "id": "yCpJat378qg5"
      },
      "source": [
        ""
      ]
    }
  ]
}