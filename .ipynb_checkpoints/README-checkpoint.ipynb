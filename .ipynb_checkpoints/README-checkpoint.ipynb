{
 "cells": [
  {
   "cell_type": "markdown",
   "metadata": {},
   "source": [
    "# Machine Learning in Python - Exam repository\n",
    "\n",
    "[![language](https://img.shields.io/github/languages/top/phuycke/ML-in-Python)](https://img.shields.io/github/languages/top/phuycke/ML-in-Python)\n",
    "[![commits](https://img.shields.io/github/last-commit/phuycke/ML-in-Python)](https://img.shields.io/github/last-commit/phuycke/ML-in-Python)\n",
    "[![contributors](https://img.shields.io/github/contributors/phuycke/ML-in-Python)](https://img.shields.io/github/contributors/phuycke/ML-in-Python)"
   ]
  },
  {
   "cell_type": "markdown",
   "metadata": {},
   "source": [
    "## What is this GitHub page about?   \n",
    "\n",
    "This GitHub page contains the code written for the exam of the 'Machine Learning in Python' course taught by Dr. Bart Van Rompaye for the Institute for Continuing Education in Science. This course aimed to teach the principles of Machine Learning.\n",
    "\n",
    "The project description itself can be found in the folder 'Assignment'."
   ]
  }
 ],
 "metadata": {
  "kernelspec": {
   "display_name": "Python 3",
   "language": "python",
   "name": "python3"
  },
  "language_info": {
   "codemirror_mode": {
    "name": "ipython",
    "version": 3
   },
   "file_extension": ".py",
   "mimetype": "text/x-python",
   "name": "python",
   "nbconvert_exporter": "python",
   "pygments_lexer": "ipython3",
   "version": "3.7.10"
  }
 },
 "nbformat": 4,
 "nbformat_minor": 2
}
