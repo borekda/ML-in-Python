{
 "cells": [
  {
   "cell_type": "code",
   "execution_count": 1,
   "metadata": {},
   "outputs": [
    {
     "name": "stdout",
     "output_type": "stream",
     "text": [
      "1.4.2\n"
     ]
    }
   ],
   "source": [
    "import xgboost; print(xgboost.__version__)"
   ]
  },
  {
   "cell_type": "code",
   "execution_count": 4,
   "metadata": {},
   "outputs": [],
   "source": [
    "from sklearn import datasets\n",
    "from xgboost import XGBRegressor\n",
    "from sklearn.model_selection import cross_val_score"
   ]
  },
  {
   "cell_type": "code",
   "execution_count": 6,
   "metadata": {},
   "outputs": [
    {
     "data": {
      "text/plain": [
       "array([62.80101886, 65.82933114, 62.19849188, 66.40701402, 67.29879575])"
      ]
     },
     "execution_count": 6,
     "metadata": {},
     "output_type": "execute_result"
    }
   ],
   "source": [
    "# import scikit-learn datasets\n",
    "from sklearn import datasets\n",
    "\n",
    "# load diabetes dataset with X, y defined\n",
    "X,y = datasets.load_diabetes(return_X_y=True)\n",
    "\n",
    "# import XGBoost regressor\n",
    "from xgboost import XGBRegressor\n",
    "\n",
    "# import cross_val_score for cross-validation\n",
    "from sklearn.model_selection import cross_val_score\n",
    "\n",
    "# score XGBRegressor (ojbective='reg:squarederror' may silence a warning)\n",
    "scores = cross_val_score(XGBRegressor(objective='reg:squarederror'), X, y, scoring='neg_mean_squared_error')\n",
    "\n",
    "# get root mean squared error\n",
    "(-scores)**0.5"
   ]
  },
  {
   "cell_type": "code",
   "execution_count": 7,
   "metadata": {},
   "outputs": [
    {
     "data": {
      "text/plain": [
       "array([62.80101886, 65.82933114, 62.19849188, 66.40701402, 67.29879575])"
      ]
     },
     "execution_count": 7,
     "metadata": {},
     "output_type": "execute_result"
    }
   ],
   "source": [
    "from sklearn import datasets\n",
    "X,y = datasets.load_diabetes(return_X_y=True)\n",
    "from xgboost import XGBRegressor\n",
    "from sklearn.model_selection import cross_val_score\n",
    "scores = cross_val_score(XGBRegressor(objective='reg:squarederror'), X, y, scoring='neg_mean_squared_error')\n",
    "(-scores)**0.5"
   ]
  }
 ],
 "metadata": {
  "interpreter": {
   "hash": "ff8aabe50d19460116dcd63cd2acfe413a2d309d9731f5dce94becb5f296dd5d"
  },
  "kernelspec": {
   "display_name": "Python 3.8.10 64-bit ('ml-in-python': pyenv)",
   "name": "python3"
  },
  "language_info": {
   "name": "python",
   "version": ""
  },
  "orig_nbformat": 4
 },
 "nbformat": 4,
 "nbformat_minor": 2
}