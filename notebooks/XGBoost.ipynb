{
 "cells": [
  {
   "cell_type": "code",
   "execution_count": null,
   "metadata": {},
   "outputs": [],
   "source": []
  }
 ],
 "metadata": {
  "interpreter": {
   "hash": "ff8aabe50d19460116dcd63cd2acfe413a2d309d9731f5dce94becb5f296dd5d"
  },
  "kernelspec": {
   "display_name": "Python 3.8.10 64-bit ('ml-in-python': pyenv)",
   "name": "python3"
  },
  "language_info": {
   "name": "python",
   "version": ""
  },
  "orig_nbformat": 4
 },
 "nbformat": 4,
 "nbformat_minor": 2
}