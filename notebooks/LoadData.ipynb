{
 "cells": [
  {
   "cell_type": "markdown",
   "metadata": {},
   "source": [
    "# Prepare the data set\n",
    "- briefly survey the data\n",
    "- deal with data issues:\n",
    "  - appropriatelyhandle categorical data\n",
    "  - treat missing data\n",
    "  - identify outliers, and choose whether or not to make your analysis more robust by removing these\n",
    "  "
   ]
  },
  {
   "cell_type": "code",
   "execution_count": 2,
   "metadata": {},
   "outputs": [
    {
     "name": "stdout",
     "output_type": "stream",
     "text": [
      "The autoreload extension is already loaded. To reload it, use:\n",
      "  %reload_ext autoreload\n"
     ]
    }
   ],
   "source": [
    "%load_ext autoreload\n",
    "%autoreload 2"
   ]
  },
  {
   "cell_type": "code",
   "execution_count": 3,
   "metadata": {},
   "outputs": [],
   "source": [
    "from pathlib import Path\n",
    "import pandas as pd\n",
    "\n",
    "def get_project_root() -> Path:\n",
    "    try:\n",
    "        # This will give you a Path object pointing to the parent of the folder where the script is located.\n",
    "        # If your script is `/root/scripts/script.py`, the result will be an absolute path '/root'.\n",
    "        return Path(__file__).parent.parent\n",
    "    except NameError as error:\n",
    "        # This will give you  root folder of the project if this runned through jupyter notebook\n",
    "        return Path().joinpath().absolute().parents[0]\n",
    "    except Exception as exception:\n",
    "        print(exception)\n",
    "\n"
   ]
  },
  {
   "cell_type": "code",
   "execution_count": 4,
   "metadata": {},
   "outputs": [
    {
     "name": "stdout",
     "output_type": "stream",
     "text": [
      "/home/daniel/PhD/ML-in-Python/data/train_V2.csv\n"
     ]
    }
   ],
   "source": [
    "root= get_project_root()\n",
    "path_to_file = Path.joinpath(root, 'data/train_V2.csv')\n",
    "print(path_to_file)\n",
    "df = pd.read_csv (path_to_file)"
   ]
  },
  {
   "cell_type": "code",
   "execution_count": 5,
   "metadata": {},
   "outputs": [
    {
     "name": "stdout",
     "output_type": "stream",
     "text": [
      "   income_am  profit_last_am  profit_am  damage_am  damage_inc  crd_lim_rec  \\\n",
      "0      227.0             0.0     3201.0      888.0         6.0      15000.0   \n",
      "1      268.0            16.0     1682.0        0.0         0.0        750.0   \n",
      "2      283.0            23.0     1673.0        0.0         0.0        750.0   \n",
      "3      227.0             0.0     1685.0        0.0         0.0          0.0   \n",
      "4     4091.0          1028.0     3425.0      785.0         2.0      14000.0   \n",
      "5     5108.0           289.0     6280.0        0.0         0.0          0.0   \n",
      "6    13293.0            28.0    14704.0        0.0         0.0      15000.0   \n",
      "7      227.0             0.0     1620.0        0.0         0.0          0.0   \n",
      "8      229.0           810.0     1620.0        0.0         0.0          0.0   \n",
      "9      229.0           810.0     1620.0        0.0         0.0          0.0   \n",
      "\n",
      "   credit_use_ic  gluten_ic  lactose_ic  insurance_ic  ...  score2_neg  \\\n",
      "0            0.0        0.0         0.0           0.0  ...         NaN   \n",
      "1            0.0        0.0         0.0           1.0  ...         NaN   \n",
      "2            0.0        0.0         0.0           1.0  ...    0.099529   \n",
      "3            0.0        0.0         0.0           0.0  ...         NaN   \n",
      "4            0.0        0.0         1.0           0.0  ...         NaN   \n",
      "5            0.0        0.0         0.0           0.0  ...         NaN   \n",
      "6            0.0        1.0         1.0           1.0  ...    0.901703   \n",
      "7            0.0        0.0         0.0           0.0  ...         NaN   \n",
      "8            0.0        0.0         0.0           1.0  ...         NaN   \n",
      "9            0.0        0.0         0.0           1.0  ...         NaN   \n",
      "\n",
      "   score3_pos  score3_neg  score4_pos  score4_neg  score5_pos  score5_neg  \\\n",
      "0         NaN         NaN    0.838147    0.082288         NaN         NaN   \n",
      "1         NaN         NaN         NaN         NaN         NaN    7.955259   \n",
      "2         NaN         NaN         NaN         NaN    0.101955    1.743020   \n",
      "3         NaN    0.889793         NaN         NaN         NaN         NaN   \n",
      "4    0.330503    0.766294    0.490486    0.542445         NaN         NaN   \n",
      "5    0.421064    0.584441    0.872812    0.668272         NaN         NaN   \n",
      "6         NaN         NaN         NaN         NaN         NaN         NaN   \n",
      "7         NaN         NaN         NaN         NaN         NaN         NaN   \n",
      "8         NaN         NaN         NaN         NaN         NaN    6.894609   \n",
      "9    0.196373    0.318601         NaN         NaN         NaN         NaN   \n",
      "\n",
      "   outcome_profit  outcome_damage_inc  outcome_damage_amount  \n",
      "0         1791.66                   0                   0.00  \n",
      "1         1672.78                   1                 829.66  \n",
      "2         1001.40                   0                   0.00  \n",
      "3         1785.59                   0                   0.00  \n",
      "4         3140.74                   0                   0.00  \n",
      "5         4318.76                   0                   0.00  \n",
      "6         1676.75                   1                 888.09  \n",
      "7         1127.05                   0                   0.00  \n",
      "8         1640.31                   0                   0.00  \n",
      "9         1861.78                   1                 981.64  \n",
      "\n",
      "[10 rows x 53 columns]\n"
     ]
    }
   ],
   "source": [
    "print (df.head(10))"
   ]
  },
  {
   "cell_type": "code",
   "execution_count": 6,
   "metadata": {},
   "outputs": [],
   "source": [
    "#from pandas.plotting import scatter_matrix\n",
    "#scatter_matrix(df, figsize=(50, 50))\n"
   ]
  }
 ],
 "metadata": {
  "jupytext": {
   "formats": "ipynb,py"
  },
  "kernelspec": {
   "display_name": "ml-in-python",
   "language": "python",
   "name": "ml-in-python"
  },
  "language_info": {
   "codemirror_mode": {
    "name": "ipython",
    "version": 3
   },
   "file_extension": ".py",
   "mimetype": "text/x-python",
   "name": "python",
   "nbconvert_exporter": "python",
   "pygments_lexer": "ipython3",
   "version": "3.8.10"
  }
 },
 "nbformat": 4,
 "nbformat_minor": 2
}
